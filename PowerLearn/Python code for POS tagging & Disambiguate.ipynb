{
  "nbformat": 4,
  "nbformat_minor": 0,
  "metadata": {
    "colab": {
      "name": "Untitled4.ipynb",
      "provenance": [],
      "collapsed_sections": [],
      "authorship_tag": "ABX9TyOv3B0DoEYYFF7irFM3qMqX",
      "include_colab_link": true
    },
    "kernelspec": {
      "name": "python3",
      "display_name": "Python 3"
    }
  },
  "cells": [
    {
      "cell_type": "markdown",
      "metadata": {
        "id": "view-in-github",
        "colab_type": "text"
      },
      "source": [
        "<a href=\"https://colab.research.google.com/github/rishabhpurohit/NLP-Basics/blob/master/Python%20code%20for%20POS%20tagging%20%26%20Disambiguate.ipynb\" target=\"_parent\"><img src=\"https://colab.research.google.com/assets/colab-badge.svg\" alt=\"Open In Colab\"/></a>"
      ]
    },
    {
      "cell_type": "code",
      "metadata": {
        "id": "oZBZrp_fwaDI",
        "colab_type": "code",
        "colab": {
          "base_uri": "https://localhost:8080/",
          "height": 202
        },
        "outputId": "659b6b00-2b35-4363-ddf9-32162cae1a7a"
      },
      "source": [
        "import nltk\n",
        "from nltk.tokenize import PunktSentenceTokenizer\n",
        "nltk.download('punkt')\n",
        "nltk.download('averaged_perceptron_tagger')\n",
        "nltk.download('maxent_ne_chunker')\n",
        "nltk.download('words')"
      ],
      "execution_count": 6,
      "outputs": [
        {
          "output_type": "stream",
          "text": [
            "[nltk_data] Downloading package punkt to /root/nltk_data...\n",
            "[nltk_data]   Unzipping tokenizers/punkt.zip.\n",
            "[nltk_data] Downloading package averaged_perceptron_tagger to\n",
            "[nltk_data]     /root/nltk_data...\n",
            "[nltk_data]   Unzipping taggers/averaged_perceptron_tagger.zip.\n",
            "[nltk_data] Downloading package maxent_ne_chunker to\n",
            "[nltk_data]     /root/nltk_data...\n",
            "[nltk_data]   Unzipping chunkers/maxent_ne_chunker.zip.\n",
            "[nltk_data] Downloading package words to /root/nltk_data...\n",
            "[nltk_data]   Unzipping corpora/words.zip.\n"
          ],
          "name": "stdout"
        },
        {
          "output_type": "execute_result",
          "data": {
            "text/plain": [
              "True"
            ]
          },
          "metadata": {
            "tags": []
          },
          "execution_count": 6
        }
      ]
    },
    {
      "cell_type": "markdown",
      "metadata": {
        "id": "V4y8BKkZxtHm",
        "colab_type": "text"
      },
      "source": [
        "POS tagging require tokens so that is why we have to tokenize using NLTK tokenizer before we can apply the pos tagging."
      ]
    },
    {
      "cell_type": "code",
      "metadata": {
        "id": "_tGTYNaXwcQv",
        "colab_type": "code",
        "colab": {}
      },
      "source": [
        "document = \"Whether you're new to programming or an experienced developer, it's easy to learn and use Python.\""
      ],
      "execution_count": 0,
      "outputs": []
    },
    {
      "cell_type": "markdown",
      "metadata": {
        "id": "L9glIL0LyFM_",
        "colab_type": "text"
      },
      "source": [
        "**Following are the methods that can be used for the pos tagging of the document in the second one all 3 parameters of the pos tag are used that is TAGSET AND LANG**"
      ]
    },
    {
      "cell_type": "code",
      "metadata": {
        "id": "3OTgN97swz1f",
        "colab_type": "code",
        "colab": {
          "base_uri": "https://localhost:8080/",
          "height": 54
        },
        "outputId": "92fb6bd0-eb2e-40d6-8ad1-f95385229940"
      },
      "source": [
        "print(nltk.pos_tag(nltk.word_tokenize(document)))"
      ],
      "execution_count": 7,
      "outputs": [
        {
          "output_type": "stream",
          "text": [
            "[('Whether', 'IN'), ('you', 'PRP'), (\"'re\", 'VBP'), ('new', 'JJ'), ('to', 'TO'), ('programming', 'VBG'), ('or', 'CC'), ('an', 'DT'), ('experienced', 'JJ'), ('developer', 'NN'), (',', ','), ('it', 'PRP'), (\"'s\", 'VBZ'), ('easy', 'JJ'), ('to', 'TO'), ('learn', 'VB'), ('and', 'CC'), ('use', 'VB'), ('Python', 'NNP'), ('.', '.')]\n"
          ],
          "name": "stdout"
        }
      ]
    },
    {
      "cell_type": "code",
      "metadata": {
        "id": "C52DCpXXwdtG",
        "colab_type": "code",
        "colab": {
          "base_uri": "https://localhost:8080/",
          "height": 353
        },
        "outputId": "f5945da3-d81f-4ba6-f3f5-757d3fe933b1"
      },
      "source": [
        "nltk.tag.pos_tag(nltk.word_tokenize(document), tagset=None, lang='eng')"
      ],
      "execution_count": 9,
      "outputs": [
        {
          "output_type": "execute_result",
          "data": {
            "text/plain": [
              "[('Whether', 'IN'),\n",
              " ('you', 'PRP'),\n",
              " (\"'re\", 'VBP'),\n",
              " ('new', 'JJ'),\n",
              " ('to', 'TO'),\n",
              " ('programming', 'VBG'),\n",
              " ('or', 'CC'),\n",
              " ('an', 'DT'),\n",
              " ('experienced', 'JJ'),\n",
              " ('developer', 'NN'),\n",
              " (',', ','),\n",
              " ('it', 'PRP'),\n",
              " (\"'s\", 'VBZ'),\n",
              " ('easy', 'JJ'),\n",
              " ('to', 'TO'),\n",
              " ('learn', 'VB'),\n",
              " ('and', 'CC'),\n",
              " ('use', 'VB'),\n",
              " ('Python', 'NNP'),\n",
              " ('.', '.')]"
            ]
          },
          "metadata": {
            "tags": []
          },
          "execution_count": 9
        }
      ]
    },
    {
      "cell_type": "code",
      "metadata": {
        "id": "bZVbkKaPwkuL",
        "colab_type": "code",
        "colab": {}
      },
      "source": [
        ""
      ],
      "execution_count": 0,
      "outputs": []
    }
  ]
}
