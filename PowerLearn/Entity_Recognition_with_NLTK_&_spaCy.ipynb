{
  "nbformat": 4,
  "nbformat_minor": 0,
  "metadata": {
    "colab": {
      "name": "Entity Recognition with NLTK & spaCy",
      "provenance": [],
      "collapsed_sections": [],
      "authorship_tag": "ABX9TyOD6wYaRjAni79euAOKAyjM",
      "include_colab_link": true
    },
    "kernelspec": {
      "name": "python3",
      "display_name": "Python 3"
    }
  },
  "cells": [
    {
      "cell_type": "markdown",
      "metadata": {
        "id": "view-in-github",
        "colab_type": "text"
      },
      "source": [
        "<a href=\"https://colab.research.google.com/github/rishabhpurohit/NLP-Basics/blob/master/Entity_Recognition_with_NLTK_%26_spaCy.ipynb\" target=\"_parent\"><img src=\"https://colab.research.google.com/assets/colab-badge.svg\" alt=\"Open In Colab\"/></a>"
      ]
    },
    {
      "cell_type": "code",
      "metadata": {
        "id": "FC4fjpbX_1rQ",
        "colab_type": "code",
        "colab": {}
      },
      "source": [
        "import nltk\n",
        "from nltk.tokenize import word_tokenize\n",
        "from nltk.tag import pos_tag\n",
        "from nltk.chunk import ne_chunk"
      ],
      "execution_count": 0,
      "outputs": []
    },
    {
      "cell_type": "code",
      "metadata": {
        "id": "RoF_5IOIAFmq",
        "colab_type": "code",
        "colab": {}
      },
      "source": [
        "doc = '''\n",
        "School and colleges in Pune will remain closed on 6th August Tuesday as heavy rainfall was \n",
        "forcing the release of water from dams into rivers in the district, a senior official said.\n",
        "District Collector Naval Kishore Ram said the situation remained critical, and the decision to \n",
        "extend the holiday for educational institutions was taken for the safety of students.\n",
        "'''"
      ],
      "execution_count": 0,
      "outputs": []
    },
    {
      "cell_type": "code",
      "metadata": {
        "id": "cgtzmV1PAOhq",
        "colab_type": "code",
        "colab": {
          "base_uri": "https://localhost:8080/",
          "height": 218
        },
        "outputId": "38741be2-d277-49f6-afae-e84f2c58bfba"
      },
      "source": [
        "nltk.download('punkt')\n",
        "nltk.download('averaged_perceptron_tagger')\n",
        "nltk.download('maxent_ne_chunker')\n",
        "nltk.download('words')"
      ],
      "execution_count": 13,
      "outputs": [
        {
          "output_type": "stream",
          "text": [
            "[nltk_data] Downloading package punkt to /root/nltk_data...\n",
            "[nltk_data]   Package punkt is already up-to-date!\n",
            "[nltk_data] Downloading package averaged_perceptron_tagger to\n",
            "[nltk_data]     /root/nltk_data...\n",
            "[nltk_data]   Package averaged_perceptron_tagger is already up-to-\n",
            "[nltk_data]       date!\n",
            "[nltk_data] Downloading package maxent_ne_chunker to\n",
            "[nltk_data]     /root/nltk_data...\n",
            "[nltk_data]   Package maxent_ne_chunker is already up-to-date!\n",
            "[nltk_data] Downloading package words to /root/nltk_data...\n",
            "[nltk_data]   Unzipping corpora/words.zip.\n"
          ],
          "name": "stdout"
        },
        {
          "output_type": "execute_result",
          "data": {
            "text/plain": [
              "True"
            ]
          },
          "metadata": {
            "tags": []
          },
          "execution_count": 13
        }
      ]
    },
    {
      "cell_type": "code",
      "metadata": {
        "id": "BOdlifWSAHmH",
        "colab_type": "code",
        "colab": {
          "base_uri": "https://localhost:8080/",
          "height": 54
        },
        "outputId": "62635870-d5f6-47f7-c1c8-cfbe3892a52c"
      },
      "source": [
        "word_tokens = nltk.word_tokenize(doc)\n",
        "print(word_tokens)"
      ],
      "execution_count": 8,
      "outputs": [
        {
          "output_type": "stream",
          "text": [
            "['School', 'and', 'colleges', 'in', 'Pune', 'will', 'remain', 'closed', 'on', '6th', 'August', 'Tuesday', 'as', 'heavy', 'rainfall', 'was', 'forcing', 'the', 'release', 'of', 'water', 'from', 'dams', 'into', 'rivers', 'in', 'the', 'district', ',', 'a', 'senior', 'official', 'said', '.', 'District', 'Collector', 'Naval', 'Kishore', 'Ram', 'said', 'the', 'situation', 'remained', 'critical', ',', 'and', 'the', 'decision', 'to', 'extend', 'the', 'holiday', 'for', 'educational', 'institutions', 'was', 'taken', 'for', 'the', 'safety', 'of', 'students', '.']\n"
          ],
          "name": "stdout"
        }
      ]
    },
    {
      "cell_type": "code",
      "metadata": {
        "id": "iguk25R8AKNo",
        "colab_type": "code",
        "colab": {
          "base_uri": "https://localhost:8080/",
          "height": 54
        },
        "outputId": "68b6933e-792a-4ee4-e15f-1885787bc258"
      },
      "source": [
        "postags = nltk.pos_tag(word_tokens)\n",
        "print(postags)"
      ],
      "execution_count": 9,
      "outputs": [
        {
          "output_type": "stream",
          "text": [
            "[('School', 'NNP'), ('and', 'CC'), ('colleges', 'NNS'), ('in', 'IN'), ('Pune', 'NNP'), ('will', 'MD'), ('remain', 'VB'), ('closed', 'JJ'), ('on', 'IN'), ('6th', 'CD'), ('August', 'NNP'), ('Tuesday', 'NNP'), ('as', 'IN'), ('heavy', 'JJ'), ('rainfall', 'NN'), ('was', 'VBD'), ('forcing', 'VBG'), ('the', 'DT'), ('release', 'NN'), ('of', 'IN'), ('water', 'NN'), ('from', 'IN'), ('dams', 'NN'), ('into', 'IN'), ('rivers', 'NNS'), ('in', 'IN'), ('the', 'DT'), ('district', 'NN'), (',', ','), ('a', 'DT'), ('senior', 'JJ'), ('official', 'NN'), ('said', 'VBD'), ('.', '.'), ('District', 'NNP'), ('Collector', 'NNP'), ('Naval', 'NNP'), ('Kishore', 'NNP'), ('Ram', 'NNP'), ('said', 'VBD'), ('the', 'DT'), ('situation', 'NN'), ('remained', 'VBD'), ('critical', 'JJ'), (',', ','), ('and', 'CC'), ('the', 'DT'), ('decision', 'NN'), ('to', 'TO'), ('extend', 'VB'), ('the', 'DT'), ('holiday', 'NN'), ('for', 'IN'), ('educational', 'JJ'), ('institutions', 'NNS'), ('was', 'VBD'), ('taken', 'VBN'), ('for', 'IN'), ('the', 'DT'), ('safety', 'NN'), ('of', 'IN'), ('students', 'NNS'), ('.', '.')]\n"
          ],
          "name": "stdout"
        }
      ]
    },
    {
      "cell_type": "code",
      "metadata": {
        "id": "KWygy5VZAU0T",
        "colab_type": "code",
        "colab": {
          "base_uri": "https://localhost:8080/",
          "height": 54
        },
        "outputId": "8e736c1e-69c3-4995-d8da-eb5cd9d98085"
      },
      "source": [
        "nouns = ne_chunk(postags)\n",
        "str(nouns)"
      ],
      "execution_count": 20,
      "outputs": [
        {
          "output_type": "execute_result",
          "data": {
            "text/plain": [
              "'(S\\n  (GPE School/NNP)\\n  and/CC\\n  colleges/NNS\\n  in/IN\\n  (GPE Pune/NNP)\\n  will/MD\\n  remain/VB\\n  closed/JJ\\n  on/IN\\n  6th/CD\\n  August/NNP\\n  Tuesday/NNP\\n  as/IN\\n  heavy/JJ\\n  rainfall/NN\\n  was/VBD\\n  forcing/VBG\\n  the/DT\\n  release/NN\\n  of/IN\\n  water/NN\\n  from/IN\\n  dams/NN\\n  into/IN\\n  rivers/NNS\\n  in/IN\\n  the/DT\\n  district/NN\\n  ,/,\\n  a/DT\\n  senior/JJ\\n  official/NN\\n  said/VBD\\n  ./.\\n  (PERSON District/NNP Collector/NNP Naval/NNP Kishore/NNP Ram/NNP)\\n  said/VBD\\n  the/DT\\n  situation/NN\\n  remained/VBD\\n  critical/JJ\\n  ,/,\\n  and/CC\\n  the/DT\\n  decision/NN\\n  to/TO\\n  extend/VB\\n  the/DT\\n  holiday/NN\\n  for/IN\\n  educational/JJ\\n  institutions/NNS\\n  was/VBD\\n  taken/VBN\\n  for/IN\\n  the/DT\\n  safety/NN\\n  of/IN\\n  students/NNS\\n  ./.)'"
            ]
          },
          "metadata": {
            "tags": []
          },
          "execution_count": 20
        }
      ]
    },
    {
      "cell_type": "code",
      "metadata": {
        "id": "YmMAZjo5AbNi",
        "colab_type": "code",
        "colab": {
          "base_uri": "https://localhost:8080/",
          "height": 336
        },
        "outputId": "e24eeaf3-26c9-45b1-d7c4-ecfc8c88c801"
      },
      "source": [
        "for x in str(nouns).split('\\n'):\n",
        "    if '/NN' in x:\n",
        "        print(x)"
      ],
      "execution_count": 19,
      "outputs": [
        {
          "output_type": "stream",
          "text": [
            "  (GPE School/NNP)\n",
            "  colleges/NNS\n",
            "  (GPE Pune/NNP)\n",
            "  August/NNP\n",
            "  Tuesday/NNP\n",
            "  rainfall/NN\n",
            "  release/NN\n",
            "  water/NN\n",
            "  dams/NN\n",
            "  rivers/NNS\n",
            "  district/NN\n",
            "  official/NN\n",
            "  (PERSON District/NNP Collector/NNP Naval/NNP Kishore/NNP Ram/NNP)\n",
            "  situation/NN\n",
            "  decision/NN\n",
            "  holiday/NN\n",
            "  institutions/NNS\n",
            "  safety/NN\n",
            "  students/NNS\n"
          ],
          "name": "stdout"
        }
      ]
    },
    {
      "cell_type": "code",
      "metadata": {
        "id": "6RUMcfKUAj4v",
        "colab_type": "code",
        "colab": {}
      },
      "source": [
        "import spacy"
      ],
      "execution_count": 0,
      "outputs": []
    },
    {
      "cell_type": "code",
      "metadata": {
        "id": "ubcgOmz2Bcar",
        "colab_type": "code",
        "colab": {}
      },
      "source": [
        "spacy_model = spacy.load('en')\n",
        "document = spacy_model(doc)"
      ],
      "execution_count": 0,
      "outputs": []
    },
    {
      "cell_type": "code",
      "metadata": {
        "id": "RMuLo-PKBmvF",
        "colab_type": "code",
        "colab": {
          "base_uri": "https://localhost:8080/",
          "height": 336
        },
        "outputId": "bf0313b2-d661-4b85-8280-c7299a5aef3b"
      },
      "source": [
        "for nc in document.noun_chunks:\n",
        "    print(nc.text)"
      ],
      "execution_count": 27,
      "outputs": [
        {
          "output_type": "stream",
          "text": [
            "\n",
            "School\n",
            "colleges\n",
            "Pune\n",
            "6th August\n",
            "heavy rainfall\n",
            "the release\n",
            "water\n",
            "dams\n",
            "rivers\n",
            "the district\n",
            "a senior official\n",
            "District Collector Naval Kishore Ram\n",
            "the situation\n",
            "the decision\n",
            "the holiday\n",
            "educational institutions\n",
            "the safety\n",
            "students\n"
          ],
          "name": "stdout"
        }
      ]
    },
    {
      "cell_type": "code",
      "metadata": {
        "id": "IPv2fa6BBtRL",
        "colab_type": "code",
        "colab": {}
      },
      "source": [
        "import random\n",
        "from pathlib import Path\n",
        "import spacy\n",
        "from spacy.util import minibatch, compounding\n",
        "from datetime import datetime"
      ],
      "execution_count": 0,
      "outputs": []
    },
    {
      "cell_type": "code",
      "metadata": {
        "id": "aPoGhtFiB-t0",
        "colab_type": "code",
        "colab": {}
      },
      "source": [
        "LABEL = \"ANIMAL\"\n",
        "\n",
        "\n",
        "TRAIN_DATA = [\n",
        "    (\n",
        "        \"Horses are too tall and they pretend to care about your feelings\",\n",
        "        {\"entities\": [(0, 6, LABEL)]},\n",
        "    ),\n",
        "    (\"Do they bite?\", {\"entities\": []}),\n",
        "    (\"horses pretend to care about your feelings\", {\"entities\": [(0, 6, LABEL)]}),\n",
        "    (\n",
        "        \"they pretend to care about your feelings, those horses\",\n",
        "        {\"entities\": [(48, 54, LABEL)]},\n",
        "    ),\n",
        "    (\"horses?\", {\"entities\": [(0, 6, LABEL)]}),\n",
        "]"
      ],
      "execution_count": 0,
      "outputs": []
    },
    {
      "cell_type": "code",
      "metadata": {
        "id": "h5zXk-xQCDIs",
        "colab_type": "code",
        "colab": {}
      },
      "source": [
        "def training(train_set, model='en', new_model_name='', output_dir='', n_iter=20):\n",
        "    \"\"\"Set up the pipeline and entity recognizer, and train the new entity.\"\"\"\n",
        "    if model is not None:\n",
        "        nlp = spacy.load(model)  # load existing spaCy model\n",
        "        print(\"Loaded model '%s'\" % model)\n",
        "    else:\n",
        "        nlp = spacy.blank('en')  # create blank Language class\n",
        "        print(\"Created blank 'en' model\")\n",
        "\n",
        "    # Add entity recognizer to model if it's not in the pipeline\n",
        "    # nlp.create_pipe works for built-ins that are registered with spaCy\n",
        "    if 'ner' not in nlp.pipe_names:\n",
        "        ner = nlp.create_pipe('ner')\n",
        "        nlp.add_pipe(ner)\n",
        "    # otherwise, get it, so we can add labels to it\n",
        "    else:\n",
        "        ner = nlp.get_pipe('ner')\n",
        "\n",
        "    ner.add_label(LABEL)   # add new entity label to entity recognizer\n",
        "\n",
        "    # get names of other pipes to disable them during training\n",
        "    other_pipes = [pipe for pipe in nlp.pipe_names if pipe != 'ner']\n",
        "    with nlp.disable_pipes(*other_pipes):  # only train NER\n",
        "        optimizer = nlp.begin_training()\n",
        "        for itn in range(n_iter):\n",
        "            print (datetime.now().isoformat())\n",
        "            random.shuffle(train_set)\n",
        "            losses = {}\n",
        "            for text, annotations in train_set:\n",
        "                nlp.update([text], [annotations], sgd=optimizer, drop=0.3, losses=losses)\n",
        "            print (\"Another iteration over\")\n",
        "            print(losses)\n",
        "            print(\"Another iteration over with loss = {} at {}\".format(losses, datetime.now().isoformat()))\n",
        "            \n",
        "    # save model to output directory\n",
        "    if output_dir is not None:\n",
        "        output_dir = Path(output_dir)\n",
        "        if not output_dir.exists():\n",
        "            output_dir.mkdir()\n",
        "        nlp.meta['name'] = new_model_name  # rename model\n",
        "        nlp.to_disk(output_dir)\n",
        "        print(\"Saved model to\", output_dir)"
      ],
      "execution_count": 0,
      "outputs": []
    },
    {
      "cell_type": "code",
      "metadata": {
        "id": "TGPg_nSYCOx7",
        "colab_type": "code",
        "colab": {
          "base_uri": "https://localhost:8080/",
          "height": 370
        },
        "outputId": "4bcca2d4-7f47-40fa-c7d6-8b5619341aca"
      },
      "source": [
        "nlp = spacy.load('/common/data/spacymodel/')\n",
        "\n",
        "# test the trained model\n",
        "test_text = \"Do you like horses?\"\n",
        "doc = nlp(test_text)\n",
        "print(\"Entities in '%s'\" % test_text)\n",
        "for ent in doc.ents:\n",
        "    print(ent.label_, ent.text)\n",
        "    \n",
        "test_text = \"Tigers are too big\"\n",
        "doc = nlp(test_text)\n",
        "print(\"Entities in '%s'\" % test_text)\n",
        "for ent in doc.ents:\n",
        "    print(ent.label_, ent.text)"
      ],
      "execution_count": 36,
      "outputs": [
        {
          "output_type": "error",
          "ename": "OSError",
          "evalue": "ignored",
          "traceback": [
            "\u001b[0;31m---------------------------------------------------------------------------\u001b[0m",
            "\u001b[0;31mOSError\u001b[0m                                   Traceback (most recent call last)",
            "\u001b[0;32m<ipython-input-36-dd4e0870c50d>\u001b[0m in \u001b[0;36m<module>\u001b[0;34m()\u001b[0m\n\u001b[0;32m----> 1\u001b[0;31m \u001b[0mnlp\u001b[0m \u001b[0;34m=\u001b[0m \u001b[0mspacy\u001b[0m\u001b[0;34m.\u001b[0m\u001b[0mload\u001b[0m\u001b[0;34m(\u001b[0m\u001b[0;34m'/common/data/spacymodel/'\u001b[0m\u001b[0;34m)\u001b[0m\u001b[0;34m\u001b[0m\u001b[0;34m\u001b[0m\u001b[0m\n\u001b[0m\u001b[1;32m      2\u001b[0m \u001b[0;34m\u001b[0m\u001b[0m\n\u001b[1;32m      3\u001b[0m \u001b[0;31m# test the trained model\u001b[0m\u001b[0;34m\u001b[0m\u001b[0;34m\u001b[0m\u001b[0;34m\u001b[0m\u001b[0m\n\u001b[1;32m      4\u001b[0m \u001b[0mtest_text\u001b[0m \u001b[0;34m=\u001b[0m \u001b[0;34m\"Do you like horses?\"\u001b[0m\u001b[0;34m\u001b[0m\u001b[0;34m\u001b[0m\u001b[0m\n\u001b[1;32m      5\u001b[0m \u001b[0mdoc\u001b[0m \u001b[0;34m=\u001b[0m \u001b[0mnlp\u001b[0m\u001b[0;34m(\u001b[0m\u001b[0mtest_text\u001b[0m\u001b[0;34m)\u001b[0m\u001b[0;34m\u001b[0m\u001b[0;34m\u001b[0m\u001b[0m\n",
            "\u001b[0;32m/usr/local/lib/python3.6/dist-packages/spacy/__init__.py\u001b[0m in \u001b[0;36mload\u001b[0;34m(name, **overrides)\u001b[0m\n\u001b[1;32m     28\u001b[0m     \u001b[0;32mif\u001b[0m \u001b[0mdepr_path\u001b[0m \u001b[0;32mnot\u001b[0m \u001b[0;32min\u001b[0m \u001b[0;34m(\u001b[0m\u001b[0;32mTrue\u001b[0m\u001b[0;34m,\u001b[0m \u001b[0;32mFalse\u001b[0m\u001b[0;34m,\u001b[0m \u001b[0;32mNone\u001b[0m\u001b[0;34m)\u001b[0m\u001b[0;34m:\u001b[0m\u001b[0;34m\u001b[0m\u001b[0;34m\u001b[0m\u001b[0m\n\u001b[1;32m     29\u001b[0m         \u001b[0mdeprecation_warning\u001b[0m\u001b[0;34m(\u001b[0m\u001b[0mWarnings\u001b[0m\u001b[0;34m.\u001b[0m\u001b[0mW001\u001b[0m\u001b[0;34m.\u001b[0m\u001b[0mformat\u001b[0m\u001b[0;34m(\u001b[0m\u001b[0mpath\u001b[0m\u001b[0;34m=\u001b[0m\u001b[0mdepr_path\u001b[0m\u001b[0;34m)\u001b[0m\u001b[0;34m)\u001b[0m\u001b[0;34m\u001b[0m\u001b[0;34m\u001b[0m\u001b[0m\n\u001b[0;32m---> 30\u001b[0;31m     \u001b[0;32mreturn\u001b[0m \u001b[0mutil\u001b[0m\u001b[0;34m.\u001b[0m\u001b[0mload_model\u001b[0m\u001b[0;34m(\u001b[0m\u001b[0mname\u001b[0m\u001b[0;34m,\u001b[0m \u001b[0;34m**\u001b[0m\u001b[0moverrides\u001b[0m\u001b[0;34m)\u001b[0m\u001b[0;34m\u001b[0m\u001b[0;34m\u001b[0m\u001b[0m\n\u001b[0m\u001b[1;32m     31\u001b[0m \u001b[0;34m\u001b[0m\u001b[0m\n\u001b[1;32m     32\u001b[0m \u001b[0;34m\u001b[0m\u001b[0m\n",
            "\u001b[0;32m/usr/local/lib/python3.6/dist-packages/spacy/util.py\u001b[0m in \u001b[0;36mload_model\u001b[0;34m(name, **overrides)\u001b[0m\n\u001b[1;32m    167\u001b[0m     \u001b[0;32melif\u001b[0m \u001b[0mhasattr\u001b[0m\u001b[0;34m(\u001b[0m\u001b[0mname\u001b[0m\u001b[0;34m,\u001b[0m \u001b[0;34m\"exists\"\u001b[0m\u001b[0;34m)\u001b[0m\u001b[0;34m:\u001b[0m  \u001b[0;31m# Path or Path-like to model data\u001b[0m\u001b[0;34m\u001b[0m\u001b[0;34m\u001b[0m\u001b[0m\n\u001b[1;32m    168\u001b[0m         \u001b[0;32mreturn\u001b[0m \u001b[0mload_model_from_path\u001b[0m\u001b[0;34m(\u001b[0m\u001b[0mname\u001b[0m\u001b[0;34m,\u001b[0m \u001b[0;34m**\u001b[0m\u001b[0moverrides\u001b[0m\u001b[0;34m)\u001b[0m\u001b[0;34m\u001b[0m\u001b[0;34m\u001b[0m\u001b[0m\n\u001b[0;32m--> 169\u001b[0;31m     \u001b[0;32mraise\u001b[0m \u001b[0mIOError\u001b[0m\u001b[0;34m(\u001b[0m\u001b[0mErrors\u001b[0m\u001b[0;34m.\u001b[0m\u001b[0mE050\u001b[0m\u001b[0;34m.\u001b[0m\u001b[0mformat\u001b[0m\u001b[0;34m(\u001b[0m\u001b[0mname\u001b[0m\u001b[0;34m=\u001b[0m\u001b[0mname\u001b[0m\u001b[0;34m)\u001b[0m\u001b[0;34m)\u001b[0m\u001b[0;34m\u001b[0m\u001b[0;34m\u001b[0m\u001b[0m\n\u001b[0m\u001b[1;32m    170\u001b[0m \u001b[0;34m\u001b[0m\u001b[0m\n\u001b[1;32m    171\u001b[0m \u001b[0;34m\u001b[0m\u001b[0m\n",
            "\u001b[0;31mOSError\u001b[0m: [E050] Can't find model '/common/data/spacymodel/'. It doesn't seem to be a shortcut link, a Python package or a valid path to a data directory."
          ]
        }
      ]
    },
    {
      "cell_type": "code",
      "metadata": {
        "id": "vRjAGviCCpNE",
        "colab_type": "code",
        "colab": {}
      },
      "source": [
        ""
      ],
      "execution_count": 0,
      "outputs": []
    }
  ]
}
