{
 "cells": [
  {
   "cell_type": "markdown",
   "metadata": {},
   "source": [
    "# IMPORT the required libraries"
   ]
  },
  {
   "cell_type": "code",
   "execution_count": 1,
   "metadata": {},
   "outputs": [
    {
     "name": "stderr",
     "output_type": "stream",
     "text": [
      "[nltk_data] Downloading package stopwords to\n",
      "[nltk_data]     C:\\Users\\Purohit\\AppData\\Roaming\\nltk_data...\n",
      "[nltk_data]   Package stopwords is already up-to-date!\n",
      "[nltk_data] Downloading package punkt to\n",
      "[nltk_data]     C:\\Users\\Purohit\\AppData\\Roaming\\nltk_data...\n",
      "[nltk_data]   Package punkt is already up-to-date!\n",
      "[nltk_data] Downloading package averaged_perceptron_tagger to\n",
      "[nltk_data]     C:\\Users\\Purohit\\AppData\\Roaming\\nltk_data...\n",
      "[nltk_data]   Package averaged_perceptron_tagger is already up-to-\n",
      "[nltk_data]       date!\n",
      "[nltk_data] Downloading package maxent_ne_chunker to\n",
      "[nltk_data]     C:\\Users\\Purohit\\AppData\\Roaming\\nltk_data...\n",
      "[nltk_data]   Package maxent_ne_chunker is already up-to-date!\n",
      "[nltk_data] Downloading package words to\n",
      "[nltk_data]     C:\\Users\\Purohit\\AppData\\Roaming\\nltk_data...\n",
      "[nltk_data]   Package words is already up-to-date!\n"
     ]
    },
    {
     "data": {
      "text/plain": [
       "True"
      ]
     },
     "execution_count": 1,
     "metadata": {},
     "output_type": "execute_result"
    }
   ],
   "source": [
    "import nltk\n",
    "from nltk.tokenize import word_tokenize\n",
    "from nltk.tag import pos_tag\n",
    "from nltk.chunk import ne_chunk\n",
    "from nltk.tokenize import sent_tokenize\n",
    "from nltk.corpus import stopwords\n",
    "nltk.download('stopwords')\n",
    "nltk.download('punkt')\n",
    "nltk.download('averaged_perceptron_tagger')\n",
    "nltk.download('maxent_ne_chunker')\n",
    "nltk.download('words')"
   ]
  },
  {
   "cell_type": "markdown",
   "metadata": {},
   "source": [
    "# Loading Text"
   ]
  },
  {
   "cell_type": "code",
   "execution_count": 2,
   "metadata": {},
   "outputs": [],
   "source": [
    "doc = \"For the third time this monsoon, pounding rains paralysed Mumbai on Wednesday with total disruption in road and rail traffic, though flights were not hit severely. Mumbai turned into an extension of the sea as unprecedented rains deluged the country's financial capital, delaying flights, jamming traffic, flooding homes and having rescue teams out on the roads since morning. In several places, the local trains grinded to a halt, and long distance trains were cancelled. In the evening office hours, the waterlogging pushed people to look for the nearest shelter, abandoning thoughts of reaching home. The met office declared a red alert for the next 24 hours, indicating that the situation might worsen. Schools and junior colleges in Mumbai, Thane and Konkan will remain shut on Thursday as a precautionary measure.\""
   ]
  },
  {
   "cell_type": "markdown",
   "metadata": {},
   "source": [
    "# Sentence Segmentation "
   ]
  },
  {
   "cell_type": "code",
   "execution_count": 3,
   "metadata": {},
   "outputs": [
    {
     "data": {
      "text/plain": [
       "['For the third time this monsoon, pounding rains paralysed Mumbai on Wednesday with total disruption in road and rail traffic, though flights were not hit severely.',\n",
       " \"Mumbai turned into an extension of the sea as unprecedented rains deluged the country's financial capital, delaying flights, jamming traffic, flooding homes and having rescue teams out on the roads since morning.\",\n",
       " 'In several places, the local trains grinded to a halt, and long distance trains were cancelled.',\n",
       " 'In the evening office hours, the waterlogging pushed people to look for the nearest shelter, abandoning thoughts of reaching home.',\n",
       " 'The met office declared a red alert for the next 24 hours, indicating that the situation might worsen.',\n",
       " 'Schools and junior colleges in Mumbai, Thane and Konkan will remain shut on Thursday as a precautionary measure.']"
      ]
     },
     "execution_count": 3,
     "metadata": {},
     "output_type": "execute_result"
    }
   ],
   "source": [
    "ss= sent_tokenize(doc)\n",
    "ss"
   ]
  },
  {
   "cell_type": "code",
   "execution_count": 4,
   "metadata": {},
   "outputs": [
    {
     "name": "stdout",
     "output_type": "stream",
     "text": [
      "For the third time this monsoon, pounding rains paralysed Mumbai on Wednesday with total disruption in road and rail traffic, though flights were not hit severely.\n",
      "\n",
      "Mumbai turned into an extension of the sea as unprecedented rains deluged the country's financial capital, delaying flights, jamming traffic, flooding homes and having rescue teams out on the roads since morning.\n",
      "\n",
      "In several places, the local trains grinded to a halt, and long distance trains were cancelled.\n",
      "\n",
      "In the evening office hours, the waterlogging pushed people to look for the nearest shelter, abandoning thoughts of reaching home.\n",
      "\n",
      "The met office declared a red alert for the next 24 hours, indicating that the situation might worsen.\n",
      "\n",
      "Schools and junior colleges in Mumbai, Thane and Konkan will remain shut on Thursday as a precautionary measure.\n",
      "\n"
     ]
    }
   ],
   "source": [
    "for s in ss:\n",
    "    print(s + \"\\n\")"
   ]
  },
  {
   "cell_type": "markdown",
   "metadata": {},
   "source": [
    "# Removing the STOPWORDS"
   ]
  },
  {
   "cell_type": "code",
   "execution_count": 5,
   "metadata": {},
   "outputs": [
    {
     "data": {
      "text/plain": [
       "['For',\n",
       " 'third',\n",
       " 'time',\n",
       " 'monsoon',\n",
       " ',',\n",
       " 'pounding',\n",
       " 'rains',\n",
       " 'paralysed',\n",
       " 'Mumbai',\n",
       " 'Wednesday',\n",
       " 'total',\n",
       " 'disruption',\n",
       " 'road',\n",
       " 'rail',\n",
       " 'traffic',\n",
       " ',',\n",
       " 'though',\n",
       " 'flights',\n",
       " 'hit',\n",
       " 'severely',\n",
       " '.',\n",
       " 'Mumbai',\n",
       " 'turned',\n",
       " 'extension',\n",
       " 'sea',\n",
       " 'unprecedented',\n",
       " 'rains',\n",
       " 'deluged',\n",
       " 'country',\n",
       " \"'s\",\n",
       " 'financial',\n",
       " 'capital',\n",
       " ',',\n",
       " 'delaying',\n",
       " 'flights',\n",
       " ',',\n",
       " 'jamming',\n",
       " 'traffic',\n",
       " ',',\n",
       " 'flooding',\n",
       " 'homes',\n",
       " 'rescue',\n",
       " 'teams',\n",
       " 'roads',\n",
       " 'since',\n",
       " 'morning',\n",
       " '.',\n",
       " 'In',\n",
       " 'several',\n",
       " 'places',\n",
       " ',',\n",
       " 'local',\n",
       " 'trains',\n",
       " 'grinded',\n",
       " 'halt',\n",
       " ',',\n",
       " 'long',\n",
       " 'distance',\n",
       " 'trains',\n",
       " 'cancelled',\n",
       " '.',\n",
       " 'In',\n",
       " 'evening',\n",
       " 'office',\n",
       " 'hours',\n",
       " ',',\n",
       " 'waterlogging',\n",
       " 'pushed',\n",
       " 'people',\n",
       " 'look',\n",
       " 'nearest',\n",
       " 'shelter',\n",
       " ',',\n",
       " 'abandoning',\n",
       " 'thoughts',\n",
       " 'reaching',\n",
       " 'home',\n",
       " '.',\n",
       " 'The',\n",
       " 'met',\n",
       " 'office',\n",
       " 'declared',\n",
       " 'red',\n",
       " 'alert',\n",
       " 'next',\n",
       " '24',\n",
       " 'hours',\n",
       " ',',\n",
       " 'indicating',\n",
       " 'situation',\n",
       " 'might',\n",
       " 'worsen',\n",
       " '.',\n",
       " 'Schools',\n",
       " 'junior',\n",
       " 'colleges',\n",
       " 'Mumbai',\n",
       " ',',\n",
       " 'Thane',\n",
       " 'Konkan',\n",
       " 'remain',\n",
       " 'shut',\n",
       " 'Thursday',\n",
       " 'precautionary',\n",
       " 'measure',\n",
       " '.']"
      ]
     },
     "execution_count": 5,
     "metadata": {},
     "output_type": "execute_result"
    }
   ],
   "source": [
    "stopwords=set(stopwords.words('english'))\n",
    "processed_words=[]\n",
    "for i in word_tokenize(doc):\n",
    "    if i not in stopwords:\n",
    "        processed_words.append(i)\n",
    "processed_words"
   ]
  },
  {
   "cell_type": "code",
   "execution_count": 6,
   "metadata": {},
   "outputs": [
    {
     "data": {
      "text/plain": [
       "list"
      ]
     },
     "execution_count": 6,
     "metadata": {},
     "output_type": "execute_result"
    }
   ],
   "source": [
    "type(processed_words)"
   ]
  },
  {
   "cell_type": "markdown",
   "metadata": {},
   "source": [
    "Created a list \"processed_words\" where all words except stopwords are present"
   ]
  },
  {
   "cell_type": "markdown",
   "metadata": {},
   "source": [
    "# Getting All Nouns"
   ]
  },
  {
   "cell_type": "code",
   "execution_count": 7,
   "metadata": {},
   "outputs": [
    {
     "data": {
      "text/plain": [
       "[('For', 'IN'),\n",
       " ('the', 'DT'),\n",
       " ('third', 'JJ'),\n",
       " ('time', 'NN'),\n",
       " ('this', 'DT'),\n",
       " ('monsoon', 'NN'),\n",
       " (',', ','),\n",
       " ('pounding', 'VBG'),\n",
       " ('rains', 'NNS'),\n",
       " ('paralysed', 'VBN'),\n",
       " ('Mumbai', 'NNP'),\n",
       " ('on', 'IN'),\n",
       " ('Wednesday', 'NNP'),\n",
       " ('with', 'IN'),\n",
       " ('total', 'JJ'),\n",
       " ('disruption', 'NN'),\n",
       " ('in', 'IN'),\n",
       " ('road', 'NN'),\n",
       " ('and', 'CC'),\n",
       " ('rail', 'NN'),\n",
       " ('traffic', 'NN'),\n",
       " (',', ','),\n",
       " ('though', 'IN'),\n",
       " ('flights', 'NNS'),\n",
       " ('were', 'VBD'),\n",
       " ('not', 'RB'),\n",
       " ('hit', 'VBN'),\n",
       " ('severely', 'RB'),\n",
       " ('.', '.'),\n",
       " ('Mumbai', 'NNP'),\n",
       " ('turned', 'VBD'),\n",
       " ('into', 'IN'),\n",
       " ('an', 'DT'),\n",
       " ('extension', 'NN'),\n",
       " ('of', 'IN'),\n",
       " ('the', 'DT'),\n",
       " ('sea', 'NN'),\n",
       " ('as', 'IN'),\n",
       " ('unprecedented', 'JJ'),\n",
       " ('rains', 'NNS'),\n",
       " ('deluged', 'VBD'),\n",
       " ('the', 'DT'),\n",
       " ('country', 'NN'),\n",
       " (\"'s\", 'POS'),\n",
       " ('financial', 'JJ'),\n",
       " ('capital', 'NN'),\n",
       " (',', ','),\n",
       " ('delaying', 'VBG'),\n",
       " ('flights', 'NNS'),\n",
       " (',', ','),\n",
       " ('jamming', 'VBG'),\n",
       " ('traffic', 'NN'),\n",
       " (',', ','),\n",
       " ('flooding', 'VBG'),\n",
       " ('homes', 'NNS'),\n",
       " ('and', 'CC'),\n",
       " ('having', 'VBG'),\n",
       " ('rescue', 'NN'),\n",
       " ('teams', 'NNS'),\n",
       " ('out', 'RP'),\n",
       " ('on', 'IN'),\n",
       " ('the', 'DT'),\n",
       " ('roads', 'NNS'),\n",
       " ('since', 'IN'),\n",
       " ('morning', 'NN'),\n",
       " ('.', '.'),\n",
       " ('In', 'IN'),\n",
       " ('several', 'JJ'),\n",
       " ('places', 'NNS'),\n",
       " (',', ','),\n",
       " ('the', 'DT'),\n",
       " ('local', 'JJ'),\n",
       " ('trains', 'NNS'),\n",
       " ('grinded', 'VBD'),\n",
       " ('to', 'TO'),\n",
       " ('a', 'DT'),\n",
       " ('halt', 'NN'),\n",
       " (',', ','),\n",
       " ('and', 'CC'),\n",
       " ('long', 'JJ'),\n",
       " ('distance', 'NN'),\n",
       " ('trains', 'NNS'),\n",
       " ('were', 'VBD'),\n",
       " ('cancelled', 'VBN'),\n",
       " ('.', '.'),\n",
       " ('In', 'IN'),\n",
       " ('the', 'DT'),\n",
       " ('evening', 'NN'),\n",
       " ('office', 'NN'),\n",
       " ('hours', 'NNS'),\n",
       " (',', ','),\n",
       " ('the', 'DT'),\n",
       " ('waterlogging', 'NN'),\n",
       " ('pushed', 'VBD'),\n",
       " ('people', 'NNS'),\n",
       " ('to', 'TO'),\n",
       " ('look', 'VB'),\n",
       " ('for', 'IN'),\n",
       " ('the', 'DT'),\n",
       " ('nearest', 'JJS'),\n",
       " ('shelter', 'NN'),\n",
       " (',', ','),\n",
       " ('abandoning', 'VBG'),\n",
       " ('thoughts', 'NNS'),\n",
       " ('of', 'IN'),\n",
       " ('reaching', 'VBG'),\n",
       " ('home', 'NN'),\n",
       " ('.', '.'),\n",
       " ('The', 'DT'),\n",
       " ('met', 'JJ'),\n",
       " ('office', 'NN'),\n",
       " ('declared', 'VBD'),\n",
       " ('a', 'DT'),\n",
       " ('red', 'JJ'),\n",
       " ('alert', 'NN'),\n",
       " ('for', 'IN'),\n",
       " ('the', 'DT'),\n",
       " ('next', 'JJ'),\n",
       " ('24', 'CD'),\n",
       " ('hours', 'NNS'),\n",
       " (',', ','),\n",
       " ('indicating', 'VBG'),\n",
       " ('that', 'IN'),\n",
       " ('the', 'DT'),\n",
       " ('situation', 'NN'),\n",
       " ('might', 'MD'),\n",
       " ('worsen', 'VB'),\n",
       " ('.', '.'),\n",
       " ('Schools', 'NNP'),\n",
       " ('and', 'CC'),\n",
       " ('junior', 'JJ'),\n",
       " ('colleges', 'NNS'),\n",
       " ('in', 'IN'),\n",
       " ('Mumbai', 'NNP'),\n",
       " (',', ','),\n",
       " ('Thane', 'NNP'),\n",
       " ('and', 'CC'),\n",
       " ('Konkan', 'NNP'),\n",
       " ('will', 'MD'),\n",
       " ('remain', 'VB'),\n",
       " ('shut', 'NNS'),\n",
       " ('on', 'IN'),\n",
       " ('Thursday', 'NNP'),\n",
       " ('as', 'IN'),\n",
       " ('a', 'DT'),\n",
       " ('precautionary', 'JJ'),\n",
       " ('measure', 'NN'),\n",
       " ('.', '.')]"
      ]
     },
     "execution_count": 7,
     "metadata": {},
     "output_type": "execute_result"
    }
   ],
   "source": [
    "pos_tagged=nltk.pos_tag(nltk.word_tokenize(doc))\n",
    "pos_tagged"
   ]
  },
  {
   "cell_type": "code",
   "execution_count": 8,
   "metadata": {},
   "outputs": [
    {
     "name": "stdout",
     "output_type": "stream",
     "text": [
      "['time', 'monsoon', 'rains', 'Mumbai', 'Wednesday', 'disruption', 'road', 'rail', 'traffic', 'flights', 'Mumbai', 'extension', 'sea', 'rains', 'country', 'capital', 'flights', 'traffic', 'homes', 'rescue', 'teams', 'roads', 'morning', 'places', 'trains', 'halt', 'distance', 'trains', 'evening', 'office', 'hours', 'waterlogging', 'people', 'shelter', 'thoughts', 'home', 'office', 'alert', 'hours', 'situation', 'Schools', 'colleges', 'Mumbai', 'Thane', 'Konkan', 'shut', 'Thursday', 'measure'] <class 'list'>\n"
     ]
    }
   ],
   "source": [
    "nouns = [i for (i,j) in pos_tagged if j==\"NN\" or j==\"NNP\" or j==\"NNS\"]\n",
    "print(nouns,type(nouns))"
   ]
  },
  {
   "cell_type": "markdown",
   "metadata": {},
   "source": [
    "Created a list \"nouns\" of all nouns in the given paragraph"
   ]
  },
  {
   "cell_type": "markdown",
   "metadata": {},
   "source": [
    "# Getting All Verbs"
   ]
  },
  {
   "cell_type": "code",
   "execution_count": 9,
   "metadata": {},
   "outputs": [
    {
     "name": "stdout",
     "output_type": "stream",
     "text": [
      "['pounding', 'paralysed', 'were', 'hit', 'turned', 'deluged', 'delaying', 'jamming', 'flooding', 'having', 'grinded', 'were', 'cancelled', 'pushed', 'look', 'abandoning', 'reaching', 'declared', 'indicating', 'worsen', 'remain'] <class 'list'>\n"
     ]
    }
   ],
   "source": [
    "verbs = [i for (i,pos )in pos_tagged if pos==\"VB\"or pos==\"VBD\"or pos==\"VBN\"or pos==\"VBG\"or pos==\"VBP\" or pos==\"VBZ\"]\n",
    "print(verbs,type(verbs))"
   ]
  },
  {
   "cell_type": "markdown",
   "metadata": {},
   "source": [
    "Created a list \"verbs\" of all verbs in the given paragraph"
   ]
  },
  {
   "cell_type": "markdown",
   "metadata": {},
   "source": [
    "# Transforming all verbs in given paragraph to their respective base form"
   ]
  },
  {
   "cell_type": "code",
   "execution_count": 10,
   "metadata": {},
   "outputs": [
    {
     "name": "stdout",
     "output_type": "stream",
     "text": [
      "pound is base form of pounding\n",
      "paralys is base form of paralysed\n",
      "were is base form of were\n",
      "hit is base form of hit\n",
      "turn is base form of turned\n",
      "delug is base form of deluged\n",
      "delay is base form of delaying\n",
      "jam is base form of jamming\n",
      "flood is base form of flooding\n",
      "have is base form of having\n",
      "grind is base form of grinded\n",
      "were is base form of were\n",
      "cancel is base form of cancelled\n",
      "push is base form of pushed\n",
      "look is base form of look\n",
      "abandon is base form of abandoning\n",
      "reach is base form of reaching\n",
      "declar is base form of declared\n",
      "indic is base form of indicating\n",
      "worsen is base form of worsen\n",
      "remain is base form of remain\n"
     ]
    }
   ],
   "source": [
    "from nltk.stem.snowball import SnowballStemmer\n",
    "stemmer=SnowballStemmer(language='english')\n",
    "\n",
    "for t in verbs:\n",
    "    stemmed=stemmer.stem(t)\n",
    "    print(stemmed +\" is base form of \"+ t)"
   ]
  },
  {
   "cell_type": "code",
   "execution_count": 11,
   "metadata": {},
   "outputs": [
    {
     "data": {
      "text/plain": [
       "str"
      ]
     },
     "execution_count": 11,
     "metadata": {},
     "output_type": "execute_result"
    }
   ],
   "source": [
    "type(stemmed)"
   ]
  },
  {
   "cell_type": "markdown",
   "metadata": {},
   "source": [
    "Transformed all verbs in given paragraph to their respective base form in string \"stemmed\" using Stemming"
   ]
  },
  {
   "cell_type": "code",
   "execution_count": null,
   "metadata": {},
   "outputs": [],
   "source": []
  },
  {
   "cell_type": "code",
   "execution_count": null,
   "metadata": {},
   "outputs": [],
   "source": []
  },
  {
   "cell_type": "code",
   "execution_count": null,
   "metadata": {},
   "outputs": [],
   "source": []
  }
 ],
 "metadata": {
  "kernelspec": {
   "display_name": "Python 3",
   "language": "python",
   "name": "python3"
  },
  "language_info": {
   "codemirror_mode": {
    "name": "ipython",
    "version": 3
   },
   "file_extension": ".py",
   "mimetype": "text/x-python",
   "name": "python",
   "nbconvert_exporter": "python",
   "pygments_lexer": "ipython3",
   "version": "3.7.6"
  }
 },
 "nbformat": 4,
 "nbformat_minor": 4
}
